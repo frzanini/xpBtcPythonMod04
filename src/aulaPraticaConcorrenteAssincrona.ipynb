{
 "cells": [
  {
   "cell_type": "code",
   "execution_count": 6,
   "metadata": {},
   "outputs": [],
   "source": [
    "import nest_asyncio \n",
    "nest_asyncio.apply()\n",
    "import asyncio\n",
    "from multiprocessing import Pool, cpu_count\n",
    "import concurrent.futures\n",
    "import sys\n",
    "import time\n",
    "from enum import Enum\n",
    "import aiohttp\n",
    "import requests"
   ]
  },
  {
   "cell_type": "code",
   "execution_count": 7,
   "metadata": {},
   "outputs": [],
   "source": [
    "def get_ids_cervejarias():\n",
    "    r = requests.get('https://api.openbrewerydb.org/breweries')\n",
    "\n",
    "    if r.status_code == 200:\n",
    "        return [r['id'] for r in r.json()]"
   ]
  },
  {
   "cell_type": "code",
   "execution_count": null,
   "metadata": {},
   "outputs": [],
   "source": [
    "def get_cervejaria(id_c):\n",
    "\n",
    "    r = requests.get(f'https://api.openbrewerydb.org/breweries/{id_c}')\n",
    "\n",
    "    if r.status_code == 200:\n",
    "        print(r.json())"
   ]
  },
  {
   "cell_type": "code",
   "execution_count": 9,
   "metadata": {},
   "outputs": [],
   "source": [
    "async def get_cervejaria_async(id_c, session):\n",
    "    async with session.get(f'https://api.openbrewerydb.org/breweries/{id_c}') as response:\n",
    "        print(await response.json())"
   ]
  },
  {
   "cell_type": "code",
   "execution_count": null,
   "metadata": {},
   "outputs": [],
   "source": [
    "async def processar_async(ids):\n",
    "    coros = []\n",
    "    async with aiohttp.ClientSession() as session:\n",
    "        for id_c in ids:\n",
    "            coros.append(get_cervejaria_async(id_c, session))\n",
    "\n",
    "        await asyncio.gather(*coros)"
   ]
  },
  {
   "cell_type": "code",
   "execution_count": null,
   "metadata": {},
   "outputs": [],
   "source": [
    "async def get_cervejaria_async_manual(id_c):\n",
    "    loop = asyncio.get_running_loop()\n",
    "    return await loop.run_in_executor(None, get_cervejaria, id_c)"
   ]
  }
 ],
 "metadata": {
  "kernelspec": {
   "display_name": ".venv",
   "language": "python",
   "name": "python3"
  },
  "language_info": {
   "codemirror_mode": {
    "name": "ipython",
    "version": 3
   },
   "file_extension": ".py",
   "mimetype": "text/x-python",
   "name": "python",
   "nbconvert_exporter": "python",
   "pygments_lexer": "ipython3",
   "version": "3.12.1"
  }
 },
 "nbformat": 4,
 "nbformat_minor": 2
}
