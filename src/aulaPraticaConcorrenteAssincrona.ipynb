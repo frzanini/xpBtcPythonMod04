{
 "cells": [
  {
   "cell_type": "code",
   "execution_count": 6,
   "metadata": {},
   "outputs": [],
   "source": [
    "import nest_asyncio \n",
    "nest_asyncio.apply()\n",
    "import asyncio\n",
    "from multiprocessing import Pool, cpu_count\n",
    "import concurrent.futures\n",
    "import sys\n",
    "import time\n",
    "from enum import Enum\n",
    "import aiohttp\n",
    "import requests"
   ]
  },
  {
   "cell_type": "code",
   "execution_count": 7,
   "metadata": {},
   "outputs": [],
   "source": [
    "def get_ids_cervejarias():\n",
    "    r = requests.get('https://api.openbrewerydb.org/breweries')\n",
    "\n",
    "    if r.status_code == 200:\n",
    "        return [r['id'] for r in r.json()]"
   ]
  },
  {
   "cell_type": "code",
   "execution_count": null,
   "metadata": {},
   "outputs": [],
   "source": [
    "def get_cervejaria(id_c):\n",
    "\n",
    "    r = requests.get(f'https://api.openbrewerydb.org/breweries/{id_c}')\n",
    "\n",
    "    if r.status_code == 200:\n",
    "        print(r.json())"
   ]
  }
 ],
 "metadata": {
  "kernelspec": {
   "display_name": ".venv",
   "language": "python",
   "name": "python3"
  },
  "language_info": {
   "codemirror_mode": {
    "name": "ipython",
    "version": 3
   },
   "file_extension": ".py",
   "mimetype": "text/x-python",
   "name": "python",
   "nbconvert_exporter": "python",
   "pygments_lexer": "ipython3",
   "version": "3.12.1"
  }
 },
 "nbformat": 4,
 "nbformat_minor": 2
}
