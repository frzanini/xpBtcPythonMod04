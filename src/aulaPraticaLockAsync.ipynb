{
 "cells": [
  {
   "cell_type": "code",
   "execution_count": 13,
   "metadata": {},
   "outputs": [
    {
     "name": "stdout",
     "output_type": "stream",
     "text": [
      "Você comprou 1 pão(es).            Ainda tempos 9 em estoque\n",
      "Você comprou 1 pão(es).            Ainda tempos 8 em estoque\n",
      "Você comprou 2 pão(es).            Ainda tempos 6 em estoque\n",
      "Você comprou 2 pão(es).            Ainda tempos 4 em estoque\n",
      "Você comprou 3 pão(es).            Ainda tempos 1 em estoque\n",
      "Não tempos pães suficientes.\n",
      "Não tempos pães suficientes.\n",
      "Não tempos pães suficientes.\n",
      "Não tempos pães suficientes.\n",
      "Não tempos pães suficientes.\n",
      "Não tempos pães suficientes.\n",
      "Não tempos pães suficientes.\n",
      "Não tempos pães suficientes.\n",
      "Não tempos pães suficientes.\n",
      "Não tempos pães suficientes.\n",
      "Não tempos pães suficientes.\n",
      "Não tempos pães suficientes.\n",
      "Não tempos pães suficientes.\n"
     ]
    }
   ],
   "source": [
    "from time import  sleep\n",
    "from threading import Thread\n",
    "        \n",
    "from threading import Lock\n",
    "\n",
    "class Paes:\n",
    "    def __init__(self, estoque):\n",
    "        self.estoque = estoque\n",
    "        self.lock = Lock()\n",
    "\n",
    "    def comprar(self, quantidade):\n",
    "        self.lock.acquire()\n",
    "        # print(f'Você solicitou {quantidade} pão(es).')\n",
    "        # sleep(1)\n",
    "        if (self.estoque < quantidade):\n",
    "            print(f'Não tempos pães suficientes.')\n",
    "            self.lock.release()\n",
    "            return\n",
    "        \n",
    "        sleep(1)\n",
    "        self.estoque -= quantidade\n",
    "\n",
    "        self.lock.release()\n",
    "\n",
    "        print(f'Você comprou {quantidade} pão(es).\\\n",
    "            Ainda tempos {self.estoque} em estoque')\n",
    "\n",
    "if __name__ == '__main__':\n",
    "    paes = Paes(10)\n",
    "    for i in range(1,10):\n",
    "        paes.comprar(i)\n",
    "        # t = Thread(target=paes.comprar, args=(i))\n",
    "        # t.run()\n",
    "\n",
    "        # t = threading.Thread(target = varUpdater, name = 'Thread1', args = (targetVar))\n",
    "        t = Thread(target = paes.comprar, name = 'Thread1', args = (i,))\n",
    "        t.start()\n"
   ]
  }
 ],
 "metadata": {
  "kernelspec": {
   "display_name": ".venv",
   "language": "python",
   "name": "python3"
  },
  "language_info": {
   "codemirror_mode": {
    "name": "ipython",
    "version": 3
   },
   "file_extension": ".py",
   "mimetype": "text/x-python",
   "name": "python",
   "nbconvert_exporter": "python",
   "pygments_lexer": "ipython3",
   "version": "3.12.1"
  }
 },
 "nbformat": 4,
 "nbformat_minor": 2
}
