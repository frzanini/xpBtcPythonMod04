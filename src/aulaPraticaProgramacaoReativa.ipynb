{
 "cells": [
  {
   "cell_type": "code",
   "execution_count": 1,
   "metadata": {},
   "outputs": [],
   "source": [
    "import rx\n",
    "import rx.operators as ops"
   ]
  },
  {
   "cell_type": "code",
   "execution_count": 2,
   "metadata": {},
   "outputs": [
    {
     "name": "stdout",
     "output_type": "stream",
     "text": [
      "on_next: 0\n",
      "on_error: unsupported operand type(s) for -: 'str' and 'int'\n",
      "Finalizado\n"
     ]
    }
   ],
   "source": [
    "# source = rx.from_iterable([1,2,3,4,5])\n",
    "\n",
    "source = rx.from_iterable([1,2,'abcd',4,5])\n",
    "\n",
    "disposable = source.pipe(\n",
    "    ops.map(lambda i:i-1),\n",
    "    ops.filter(lambda i:i%2 == 0),\n",
    ").subscribe(\n",
    "    on_next=lambda i: print(\"on_next: {}\".format(i)),\n",
    "    on_completed=lambda: print(\"on_completed\"),\n",
    "    on_error=lambda e: print(\"on_error: {}\".format(e))\n",
    ")\n",
    "\n",
    "disposable.dispose()\n",
    "\n",
    "print(\"Finalizado\")"
   ]
  },
  {
   "cell_type": "code",
   "execution_count": 3,
   "metadata": {},
   "outputs": [
    {
     "name": "stdout",
     "output_type": "stream",
     "text": [
      "Recebido Alfa\n",
      "Recebido Beta\n",
      "Recebido Gama\n",
      "Recebido Delta\n",
      "Recebido Epsilon\n",
      "Fim\n"
     ]
    },
    {
     "data": {
      "text/plain": [
       "<rx.disposable.disposable.Disposable at 0x200b96829f0>"
      ]
     },
     "execution_count": 3,
     "metadata": {},
     "output_type": "execute_result"
    }
   ],
   "source": [
    "from rx import create, disposable\n",
    "import rx\n",
    "\n",
    "#função que recebe os observer\n",
    "def push_five_strings(observer, scheduler):\n",
    "    observer.on_next(\"Alfa\")\n",
    "    observer.on_next(\"Beta\")\n",
    "    observer.on_next(\"Gama\")\n",
    "    observer.on_next(\"Delta\")\n",
    "    observer.on_next(\"Epsilon\")\n",
    "    observer.on_completed()\n",
    "\n",
    "class PrintObserver(disposable.Disposable):\n",
    "\n",
    "    def on_next(self, value):\n",
    "        print(\"Recebido {0}\".format(value))\n",
    "    \n",
    "    def on_completed(self):\n",
    "        print(\"Fim\")\n",
    "    \n",
    "    def on_error(self, error):\n",
    "        print(\"Erro Identificado {0}\".format(error))\n",
    "\n",
    "#criar o observable\n",
    "source = create(push_five_strings)\n",
    "\n",
    "source.subscribe(PrintObserver())"
   ]
  },
  {
   "cell_type": "code",
   "execution_count": 4,
   "metadata": {},
   "outputs": [
    {
     "name": "stdout",
     "output_type": "stream",
     "text": [
      "Recebido Alfa\n",
      "Recebido Beta\n",
      "Recebido Gama\n",
      "Recebido Delta\n",
      "Recebido Epsilon\n",
      "Finalizado\n"
     ]
    },
    {
     "data": {
      "text/plain": [
       "<rx.disposable.disposable.Disposable at 0x200b9763500>"
      ]
     },
     "execution_count": 4,
     "metadata": {},
     "output_type": "execute_result"
    }
   ],
   "source": [
    "from rx import of\n",
    "\n",
    "source = of(\"Alfa\",\"Beta\",\"Gama\",\"Delta\",\"Epsilon\")\n",
    "source.subscribe(\n",
    "\n",
    "    on_next=lambda i: print(\"Recebido {}\".format(i)),\n",
    "    on_completed=lambda : print(\"Finalizado\"),\n",
    "    on_error=lambda e: print(\"Erro Identificado {0}\".format(e))\n",
    ")"
   ]
  },
  {
   "cell_type": "code",
   "execution_count": 5,
   "metadata": {},
   "outputs": [
    {
     "name": "stdout",
     "output_type": "stream",
     "text": [
      "Instruções recebidas para comprar ação APPL\n",
      "Instruções recebidas para comprar ação TSLA\n",
      "Instruções recebidas para comprar ação MSFT\n",
      "Todas as Ordens de compras foram finalizadas\n"
     ]
    },
    {
     "data": {
      "text/plain": [
       "<rx.disposable.disposable.Disposable at 0x200b9763dd0>"
      ]
     },
     "execution_count": 5,
     "metadata": {},
     "output_type": "execute_result"
    }
   ],
   "source": [
    "from rx import disposable, create\n",
    "\n",
    "stocks = [\n",
    "    {'TCKR':'APPL','PRICE':200},\n",
    "    {'TCKR':'GOOG','PRICE':90},\n",
    "    {'TCKR':'TSLA','PRICE':120},\n",
    "    {'TCKR':'MSFT','PRICE':150},\n",
    "    {'TCKR':'INTL','PRICE':70}\n",
    "]\n",
    "\n",
    "def buy_stock_events(observer, scheduler):\n",
    "    for stock in stocks:\n",
    "        if(stock['PRICE']> 100):\n",
    "            observer.on_next(stock['TCKR'])\n",
    "    observer.on_completed()\n",
    "\n",
    "class StockObserver(disposable.Disposable):\n",
    "    \n",
    "    def on_next(self, value):\n",
    "        print(\"Instruções recebidas para comprar ação {0}\".format(value))\n",
    "    \n",
    "    def on_completed(self):\n",
    "        print(\"Todas as Ordens de compras foram finalizadas\")\n",
    "    \n",
    "    def on_error(self, error):\n",
    "        print(\"Erro Identificado {0}\".format(error))\n",
    "\n",
    "\n",
    "source = create(buy_stock_events)\n",
    "\n",
    "source.subscribe(StockObserver())"
   ]
  },
  {
   "cell_type": "code",
   "execution_count": 6,
   "metadata": {},
   "outputs": [
    {
     "name": "stdout",
     "output_type": "stream",
     "text": [
      "Instruções recebidas para comprar ação APPL\n",
      "Instruções recebidas para comprar ação TSLA\n",
      "Instruções recebidas para comprar ação MSFT\n",
      "Todas as Ordens de compras foram finalizadas\n"
     ]
    },
    {
     "data": {
      "text/plain": [
       "<rx.disposable.disposable.Disposable at 0x200b9762690>"
      ]
     },
     "execution_count": 6,
     "metadata": {},
     "output_type": "execute_result"
    }
   ],
   "source": [
    "from rx import disposable, create\n",
    "\n",
    "stocks = [\n",
    "    {'TCKR':'APPL','PRICE':200},\n",
    "    {'TCKR':'GOOG','PRICE':90},\n",
    "    {'TCKR':'TSLA','PRICE':120},\n",
    "    {'TCKR':'MSFT','PRICE':150},\n",
    "    {'TCKR':'INTL','PRICE':70}\n",
    "]\n",
    "\n",
    "\n",
    "def buy_stock_events(observer, scheduler):\n",
    "    for stock in stocks:\n",
    "        if (stock['PRICE'] > 100):\n",
    "            observer.on_next(stock['TCKR'])\n",
    "    observer.on_completed()\n",
    "\n",
    "source = create(buy_stock_events)\n",
    "source.subscribe(\n",
    "    on_next = lambda value : print(\"Instruções recebidas para comprar ação {0}\".format(value)),\n",
    "    on_completed = lambda: print(\"Todas as Ordens de compras foram finalizadas\"),\n",
    "    on_error = lambda: print(\"Erro Identificado {0}\".format(error))\n",
    ")"
   ]
  },
  {
   "cell_type": "code",
   "execution_count": 7,
   "metadata": {},
   "outputs": [
    {
     "name": "stdout",
     "output_type": "stream",
     "text": [
      "Recebido 5\n",
      "Recebido 5\n",
      "Recebido 5\n",
      "Recebido 6\n"
     ]
    },
    {
     "data": {
      "text/plain": [
       "<rx.disposable.disposable.Disposable at 0x200b97a6570>"
      ]
     },
     "execution_count": 7,
     "metadata": {},
     "output_type": "execute_result"
    }
   ],
   "source": [
    "from rx import of, operators as op\n",
    "\n",
    "of('alpha','Beta','Gamma','Delta','Epslon').pipe(\n",
    "    op.map(lambda s: len(s)),\n",
    "    op.filter(lambda i: i >= 5)\n",
    ").subscribe(lambda value:  print(\"Recebido {0}\".format(value)))"
   ]
  },
  {
   "cell_type": "code",
   "execution_count": 10,
   "metadata": {},
   "outputs": [
    {
     "name": "stdout",
     "output_type": "stream",
     "text": [
      "Recebido 5\n",
      "Recebido 5\n",
      "Recebido 5\n",
      "Recebido 6\n"
     ]
    },
    {
     "data": {
      "text/plain": [
       "<rx.disposable.disposable.Disposable at 0x200b97a4aa0>"
      ]
     },
     "execution_count": 10,
     "metadata": {},
     "output_type": "execute_result"
    }
   ],
   "source": [
    "from rx import of, operators as op\n",
    "\n",
    "source= of('alpha','Beta','Gamma','Delta','Epslon')\n",
    "\n",
    "composed = source.pipe(\n",
    "    op.map(lambda s: len(s)),\n",
    "    op.filter(lambda i: i >= 5)\n",
    ")\n",
    "\n",
    "composed.subscribe(lambda value: print(\"Recebido {0}\".format(value)))"
   ]
  },
  {
   "cell_type": "code",
   "execution_count": 12,
   "metadata": {},
   "outputs": [
    {
     "name": "stdout",
     "output_type": "stream",
     "text": [
      "Recebido 5\n",
      "Recebido 5\n",
      "Recebido 5\n",
      "Recebido 6\n"
     ]
    },
    {
     "data": {
      "text/plain": [
       "<rx.disposable.disposable.Disposable at 0x200b97b7b60>"
      ]
     },
     "execution_count": 12,
     "metadata": {},
     "output_type": "execute_result"
    }
   ],
   "source": [
    "import rx\n",
    "from rx import operators as ops\n",
    "\n",
    "def lenght_more_than_5():\n",
    "    return rx.pipe(\n",
    "        op.map(lambda s: len(s)),\n",
    "        op.filter(lambda i: i >= 5)\n",
    "    )\n",
    "\n",
    "rx.of('alpha','Beta','Gamma','Delta','Epslon').pipe(\n",
    "    lenght_more_than_5()\n",
    ").subscribe(lambda value: print(\"Recebido {0}\".format(value)))"
   ]
  }
 ],
 "metadata": {
  "kernelspec": {
   "display_name": ".venv",
   "language": "python",
   "name": "python3"
  },
  "language_info": {
   "codemirror_mode": {
    "name": "ipython",
    "version": 3
   },
   "file_extension": ".py",
   "mimetype": "text/x-python",
   "name": "python",
   "nbconvert_exporter": "python",
   "pygments_lexer": "ipython3",
   "version": "3.12.1"
  }
 },
 "nbformat": 4,
 "nbformat_minor": 2
}
