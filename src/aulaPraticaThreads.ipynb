{
 "cells": [
  {
   "cell_type": "code",
   "execution_count": 1,
   "metadata": {},
   "outputs": [
    {
     "name": "stdout",
     "output_type": "stream",
     "text": [
      "Olá bootCampers\n",
      "Contador:  0\n",
      "Contador:  1\n",
      "Contador:  2\n",
      "Contador:  3\n",
      "Contador:  4\n",
      "Contador:  5\n",
      "Contador:  6\n",
      "Contador:  7\n",
      "Contador:  8\n",
      "Contador:  9\n",
      "Zanini\n"
     ]
    }
   ],
   "source": [
    "from time import sleep\n",
    "\n",
    "print('Olá bootCampers')\n",
    "\n",
    "for i in range(10):\n",
    "    print('Contador: ',i)\n",
    "    sleep(.5)\n",
    "\n",
    "print('Zanini')"
   ]
  },
  {
   "cell_type": "code",
   "execution_count": 5,
   "metadata": {},
   "outputs": [
    {
     "name": "stdout",
     "output_type": "stream",
     "text": [
      "0\n",
      "XP Thread\n",
      "XP Thread 2\n",
      "XP Thread 4\n",
      "XP Thread 3\n",
      "1\n",
      "2\n",
      "3\n",
      "4\n",
      "5\n",
      "6\n",
      "7\n",
      "8\n",
      "9\n",
      "10\n",
      "11\n",
      "12\n",
      "13\n",
      "14\n",
      "15\n",
      "16\n",
      "17\n",
      "18\n",
      "19\n"
     ]
    }
   ],
   "source": [
    "from collections.abc import Callable\n",
    "from threading import Thread\n",
    "from typing import Any, Iterable, Mapping\n",
    "\n",
    "class XPThread(Thread):\n",
    "    def __init__(self, texto, tempo):\n",
    "        self.texto = texto\n",
    "        self.tempo = tempo\n",
    "\n",
    "        super().__init__()\n",
    "\n",
    "    def run(self):\n",
    "        sleep(self.tempo)\n",
    "        print(self.texto)\n",
    "    \n",
    "t1 = XPThread('XP Thread', 5)\n",
    "t1.start()\n",
    "\n",
    "\n",
    "t2 = XPThread('XP Thread 2', 5)\n",
    "t2.start()\n",
    "\n",
    "t3 = XPThread('XP Thread 3', 5)\n",
    "t3.start()\n",
    "\n",
    "t4 = XPThread('XP Thread 4', 5)\n",
    "t4.start()\n",
    "\n",
    "for i in range(20):\n",
    "    print(i)\n",
    "    sleep(5)"
   ]
  }
 ],
 "metadata": {
  "kernelspec": {
   "display_name": ".venv",
   "language": "python",
   "name": "python3"
  },
  "language_info": {
   "codemirror_mode": {
    "name": "ipython",
    "version": 3
   },
   "file_extension": ".py",
   "mimetype": "text/x-python",
   "name": "python",
   "nbconvert_exporter": "python",
   "pygments_lexer": "ipython3",
   "version": "3.12.1"
  }
 },
 "nbformat": 4,
 "nbformat_minor": 2
}
